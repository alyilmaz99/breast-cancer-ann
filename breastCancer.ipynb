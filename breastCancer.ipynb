{
  "nbformat": 4,
  "nbformat_minor": 0,
  "metadata": {
    "colab": {
      "provenance": [],
      "authorship_tag": "ABX9TyN5NFgmiFZDR82A36Lv51sw",
      "include_colab_link": true
    },
    "kernelspec": {
      "name": "python3",
      "display_name": "Python 3"
    },
    "language_info": {
      "name": "python"
    }
  },
  "cells": [
    {
      "cell_type": "markdown",
      "metadata": {
        "id": "view-in-github",
        "colab_type": "text"
      },
      "source": [
        "<a href=\"https://colab.research.google.com/github/alyilmaz99/breast-cancer-ann/blob/main/breastCancer.ipynb\" target=\"_parent\"><img src=\"https://colab.research.google.com/assets/colab-badge.svg\" alt=\"Open In Colab\"/></a>"
      ]
    },
    {
      "cell_type": "code",
      "execution_count": 37,
      "metadata": {
        "id": "uRTJb9QMQIb0"
      },
      "outputs": [],
      "source": [
        "import pandas as pd\n",
        "import numpy as np\n",
        "import matplotlib.pyplot as plt\n",
        "import seaborn as sns\n",
        "\n",
        "# Importing data\n",
        "data = pd.read_csv('../content/input/data.csv')\n",
        "del data['Unnamed: 32']\n"
      ]
    },
    {
      "cell_type": "code",
      "source": [],
      "metadata": {
        "colab": {
          "base_uri": "https://localhost:8080/"
        },
        "id": "lOXQr0fFsGl8",
        "outputId": "54f8a835-f935-4fd8-ac1e-e38aa164b353"
      },
      "execution_count": 23,
      "outputs": [
        {
          "output_type": "stream",
          "name": "stdout",
          "text": [
            "Please provide your Kaggle credentials to download this dataset. Learn more: http://bit.ly/kaggle-creds\n",
            "Your Kaggle username: alyyilmaz\n",
            "Your Kaggle Key: ··········\n",
            "Downloading planet-understanding-the-amazon-from-space.zip to ./planet-understanding-the-amazon-from-space\n"
          ]
        },
        {
          "output_type": "stream",
          "name": "stderr",
          "text": [
            "100%|██████████| 2.94M/2.94M [00:00<00:00, 158MB/s]"
          ]
        },
        {
          "output_type": "stream",
          "name": "stdout",
          "text": [
            "\n",
            "Extracting archive ./planet-understanding-the-amazon-from-space/planet-understanding-the-amazon-from-space.zip to ./planet-understanding-the-amazon-from-space\n"
          ]
        },
        {
          "output_type": "stream",
          "name": "stderr",
          "text": [
            "\n"
          ]
        }
      ]
    },
    {
      "cell_type": "code",
      "source": [
        "X = data.iloc[:, 2:].values\n",
        "y = data.iloc[:, 1].values\n",
        "\n",
        "# Encoding categorical data\n",
        "from sklearn.preprocessing import LabelEncoder\n",
        "labelencoder_X_1 = LabelEncoder()\n",
        "y = labelencoder_X_1.fit_transform(y)\n",
        "\n",
        "# Splitting the dataset into the Training set and Test set\n",
        "from sklearn.model_selection import train_test_split\n",
        "X_train, X_test, y_train, y_test = train_test_split(X, y, test_size = 0.1, random_state = 0)\n",
        "\n",
        "#Feature Scaling\n",
        "from sklearn.preprocessing import StandardScaler\n",
        "sc = StandardScaler()\n",
        "X_train = sc.fit_transform(X_train)\n",
        "X_test = sc.transform(X_test)"
      ],
      "metadata": {
        "id": "0ORFbaM9s3er"
      },
      "execution_count": 38,
      "outputs": []
    },
    {
      "cell_type": "code",
      "source": [
        "\n",
        "import keras\n",
        "from keras.models import Sequential\n",
        "from keras.layers import Dense, Dropout"
      ],
      "metadata": {
        "id": "swrnC1cutEbD"
      },
      "execution_count": 39,
      "outputs": []
    },
    {
      "cell_type": "code",
      "source": [
        "# Initialising the ANN\n",
        "classifier = Sequential()"
      ],
      "metadata": {
        "id": "bNniOp5AtVSf"
      },
      "execution_count": 42,
      "outputs": []
    },
    {
      "cell_type": "code",
      "source": [
        "# Adding the input layer and the first hidden layer\n",
        "\n",
        "classifier.add(Dense(16, activation='relu', kernel_initializer='uniform',input_dim=30))\n",
        "\n",
        "# Adding dropout to prevent overfitting\n",
        "classifier.add(Dropout(0.1))"
      ],
      "metadata": {
        "id": "drGtY0xyvQU1"
      },
      "execution_count": 51,
      "outputs": []
    },
    {
      "cell_type": "code",
      "source": [
        "# Adding the second hidden layer\n",
        "classifier.add(Dense(16, activation='relu', kernel_initializer='uniform'))\n",
        "# Adding dropout to prevent overfitting\n",
        "classifier.add(Dropout(0.1))"
      ],
      "metadata": {
        "id": "RgHbTru-v1i-"
      },
      "execution_count": 52,
      "outputs": []
    },
    {
      "cell_type": "code",
      "source": [
        "classifier.add(Dense(1, kernel_initializer='uniform', activation='sigmoid'))"
      ],
      "metadata": {
        "id": "BeE3ACr7v8Ns"
      },
      "execution_count": 53,
      "outputs": []
    },
    {
      "cell_type": "code",
      "source": [
        "classifier.compile(optimizer='adam', loss='binary_crossentropy', metrics=['accuracy'])"
      ],
      "metadata": {
        "id": "tx89ympvwLzQ"
      },
      "execution_count": 54,
      "outputs": []
    },
    {
      "cell_type": "code",
      "source": [
        "# Fitting the ANN to the Training set\n",
        "classifier.fit(X_train, y_train, batch_size=100, epochs=150)\n",
        "# Long scroll ahead but worth\n",
        "# The batch size and number of epochs have been set using trial and error. Still looking for more efficient ways. Open to suggestions."
      ],
      "metadata": {
        "colab": {
          "base_uri": "https://localhost:8080/"
        },
        "id": "IFmbDJZXwOhp",
        "outputId": "214285b3-021a-448d-b174-3154e8c2923d"
      },
      "execution_count": 56,
      "outputs": [
        {
          "output_type": "stream",
          "name": "stdout",
          "text": [
            "Epoch 1/150\n",
            "6/6 [==============================] - 3s 5ms/step - loss: 0.6929 - accuracy: 0.5586\n",
            "Epoch 2/150\n",
            "6/6 [==============================] - 0s 3ms/step - loss: 0.6920 - accuracy: 0.6289\n",
            "Epoch 3/150\n",
            "6/6 [==============================] - 0s 3ms/step - loss: 0.6911 - accuracy: 0.6289\n",
            "Epoch 4/150\n",
            "6/6 [==============================] - 0s 4ms/step - loss: 0.6902 - accuracy: 0.6289\n",
            "Epoch 5/150\n",
            "6/6 [==============================] - 0s 3ms/step - loss: 0.6891 - accuracy: 0.6289\n",
            "Epoch 6/150\n",
            "6/6 [==============================] - 0s 3ms/step - loss: 0.6879 - accuracy: 0.6289\n",
            "Epoch 7/150\n",
            "6/6 [==============================] - 0s 3ms/step - loss: 0.6867 - accuracy: 0.6289\n",
            "Epoch 8/150\n",
            "6/6 [==============================] - 0s 3ms/step - loss: 0.6853 - accuracy: 0.6289\n",
            "Epoch 9/150\n",
            "6/6 [==============================] - 0s 3ms/step - loss: 0.6839 - accuracy: 0.6289\n",
            "Epoch 10/150\n",
            "6/6 [==============================] - 0s 3ms/step - loss: 0.6824 - accuracy: 0.6289\n",
            "Epoch 11/150\n",
            "6/6 [==============================] - 0s 3ms/step - loss: 0.6808 - accuracy: 0.6289\n",
            "Epoch 12/150\n",
            "6/6 [==============================] - 0s 3ms/step - loss: 0.6789 - accuracy: 0.6289\n",
            "Epoch 13/150\n",
            "6/6 [==============================] - 0s 3ms/step - loss: 0.6767 - accuracy: 0.6289\n",
            "Epoch 14/150\n",
            "6/6 [==============================] - 0s 3ms/step - loss: 0.6747 - accuracy: 0.6289\n",
            "Epoch 15/150\n",
            "6/6 [==============================] - 0s 3ms/step - loss: 0.6724 - accuracy: 0.6289\n",
            "Epoch 16/150\n",
            "6/6 [==============================] - 0s 3ms/step - loss: 0.6695 - accuracy: 0.6289\n",
            "Epoch 17/150\n",
            "6/6 [==============================] - 0s 3ms/step - loss: 0.6663 - accuracy: 0.6289\n",
            "Epoch 18/150\n",
            "6/6 [==============================] - 0s 4ms/step - loss: 0.6623 - accuracy: 0.6289\n",
            "Epoch 19/150\n",
            "6/6 [==============================] - 0s 3ms/step - loss: 0.6578 - accuracy: 0.6289\n",
            "Epoch 20/150\n",
            "6/6 [==============================] - 0s 4ms/step - loss: 0.6544 - accuracy: 0.6289\n",
            "Epoch 21/150\n",
            "6/6 [==============================] - 0s 3ms/step - loss: 0.6505 - accuracy: 0.6289\n",
            "Epoch 22/150\n",
            "6/6 [==============================] - 0s 3ms/step - loss: 0.6459 - accuracy: 0.6289\n",
            "Epoch 23/150\n",
            "6/6 [==============================] - 0s 3ms/step - loss: 0.6391 - accuracy: 0.6289\n",
            "Epoch 24/150\n",
            "6/6 [==============================] - 0s 3ms/step - loss: 0.6358 - accuracy: 0.6289\n",
            "Epoch 25/150\n",
            "6/6 [==============================] - 0s 5ms/step - loss: 0.6307 - accuracy: 0.6289\n",
            "Epoch 26/150\n",
            "6/6 [==============================] - 0s 5ms/step - loss: 0.6264 - accuracy: 0.6289\n",
            "Epoch 27/150\n",
            "6/6 [==============================] - 0s 4ms/step - loss: 0.6192 - accuracy: 0.6289\n",
            "Epoch 28/150\n",
            "6/6 [==============================] - 0s 6ms/step - loss: 0.6182 - accuracy: 0.6289\n",
            "Epoch 29/150\n",
            "6/6 [==============================] - 0s 5ms/step - loss: 0.6065 - accuracy: 0.6289\n",
            "Epoch 30/150\n",
            "6/6 [==============================] - 0s 5ms/step - loss: 0.6037 - accuracy: 0.6289\n",
            "Epoch 31/150\n",
            "6/6 [==============================] - 0s 5ms/step - loss: 0.5981 - accuracy: 0.6289\n",
            "Epoch 32/150\n",
            "6/6 [==============================] - 0s 4ms/step - loss: 0.5991 - accuracy: 0.6289\n",
            "Epoch 33/150\n",
            "6/6 [==============================] - 0s 6ms/step - loss: 0.5879 - accuracy: 0.6289\n",
            "Epoch 34/150\n",
            "6/6 [==============================] - 0s 5ms/step - loss: 0.5782 - accuracy: 0.6289\n",
            "Epoch 35/150\n",
            "6/6 [==============================] - 0s 4ms/step - loss: 0.5727 - accuracy: 0.6289\n",
            "Epoch 36/150\n",
            "6/6 [==============================] - 0s 5ms/step - loss: 0.5677 - accuracy: 0.6289\n",
            "Epoch 37/150\n",
            "6/6 [==============================] - 0s 5ms/step - loss: 0.5638 - accuracy: 0.6289\n",
            "Epoch 38/150\n",
            "6/6 [==============================] - 0s 5ms/step - loss: 0.5496 - accuracy: 0.6289\n",
            "Epoch 39/150\n",
            "6/6 [==============================] - 0s 4ms/step - loss: 0.5403 - accuracy: 0.6289\n",
            "Epoch 40/150\n",
            "6/6 [==============================] - 0s 4ms/step - loss: 0.5403 - accuracy: 0.6289\n",
            "Epoch 41/150\n",
            "6/6 [==============================] - 0s 4ms/step - loss: 0.5255 - accuracy: 0.6289\n",
            "Epoch 42/150\n",
            "6/6 [==============================] - 0s 4ms/step - loss: 0.5196 - accuracy: 0.6289\n",
            "Epoch 43/150\n",
            "6/6 [==============================] - 0s 5ms/step - loss: 0.5096 - accuracy: 0.6289\n",
            "Epoch 44/150\n",
            "6/6 [==============================] - 0s 4ms/step - loss: 0.4988 - accuracy: 0.6289\n",
            "Epoch 45/150\n",
            "6/6 [==============================] - 0s 4ms/step - loss: 0.4895 - accuracy: 0.6289\n",
            "Epoch 46/150\n",
            "6/6 [==============================] - 0s 4ms/step - loss: 0.4766 - accuracy: 0.6289\n",
            "Epoch 47/150\n",
            "6/6 [==============================] - 0s 4ms/step - loss: 0.4650 - accuracy: 0.6289\n",
            "Epoch 48/150\n",
            "6/6 [==============================] - 0s 5ms/step - loss: 0.4552 - accuracy: 0.6289\n",
            "Epoch 49/150\n",
            "6/6 [==============================] - 0s 4ms/step - loss: 0.4471 - accuracy: 0.6289\n",
            "Epoch 50/150\n",
            "6/6 [==============================] - 0s 5ms/step - loss: 0.4346 - accuracy: 0.6289\n",
            "Epoch 51/150\n",
            "6/6 [==============================] - 0s 5ms/step - loss: 0.4245 - accuracy: 0.6289\n",
            "Epoch 52/150\n",
            "6/6 [==============================] - 0s 5ms/step - loss: 0.4132 - accuracy: 0.6289\n",
            "Epoch 53/150\n",
            "6/6 [==============================] - 0s 4ms/step - loss: 0.4022 - accuracy: 0.6289\n",
            "Epoch 54/150\n",
            "6/6 [==============================] - 0s 4ms/step - loss: 0.3910 - accuracy: 0.6289\n",
            "Epoch 55/150\n",
            "6/6 [==============================] - 0s 4ms/step - loss: 0.3877 - accuracy: 0.6289\n",
            "Epoch 56/150\n",
            "6/6 [==============================] - 0s 5ms/step - loss: 0.3729 - accuracy: 0.6289\n",
            "Epoch 57/150\n",
            "6/6 [==============================] - 0s 5ms/step - loss: 0.3696 - accuracy: 0.6289\n",
            "Epoch 58/150\n",
            "6/6 [==============================] - 0s 5ms/step - loss: 0.3597 - accuracy: 0.6289\n",
            "Epoch 59/150\n",
            "6/6 [==============================] - 0s 4ms/step - loss: 0.3557 - accuracy: 0.6387\n",
            "Epoch 60/150\n",
            "6/6 [==============================] - 0s 5ms/step - loss: 0.3568 - accuracy: 0.9531\n",
            "Epoch 61/150\n",
            "6/6 [==============================] - 0s 5ms/step - loss: 0.3479 - accuracy: 0.9785\n",
            "Epoch 62/150\n",
            "6/6 [==============================] - 0s 5ms/step - loss: 0.3453 - accuracy: 0.9824\n",
            "Epoch 63/150\n",
            "6/6 [==============================] - 0s 5ms/step - loss: 0.3413 - accuracy: 0.9727\n",
            "Epoch 64/150\n",
            "6/6 [==============================] - 0s 5ms/step - loss: 0.3346 - accuracy: 0.9844\n",
            "Epoch 65/150\n",
            "6/6 [==============================] - 0s 4ms/step - loss: 0.3237 - accuracy: 0.9863\n",
            "Epoch 66/150\n",
            "6/6 [==============================] - 0s 5ms/step - loss: 0.3169 - accuracy: 0.9863\n",
            "Epoch 67/150\n",
            "6/6 [==============================] - 0s 4ms/step - loss: 0.3241 - accuracy: 0.9824\n",
            "Epoch 68/150\n",
            "6/6 [==============================] - 0s 4ms/step - loss: 0.3174 - accuracy: 0.9785\n",
            "Epoch 69/150\n",
            "6/6 [==============================] - 0s 4ms/step - loss: 0.3231 - accuracy: 0.9844\n",
            "Epoch 70/150\n",
            "6/6 [==============================] - 0s 4ms/step - loss: 0.3203 - accuracy: 0.9805\n",
            "Epoch 71/150\n",
            "6/6 [==============================] - 0s 4ms/step - loss: 0.3070 - accuracy: 0.9902\n",
            "Epoch 72/150\n",
            "6/6 [==============================] - 0s 4ms/step - loss: 0.3173 - accuracy: 0.9805\n",
            "Epoch 73/150\n",
            "6/6 [==============================] - 0s 4ms/step - loss: 0.3142 - accuracy: 0.9785\n",
            "Epoch 74/150\n",
            "6/6 [==============================] - 0s 4ms/step - loss: 0.3065 - accuracy: 0.9824\n",
            "Epoch 75/150\n",
            "6/6 [==============================] - 0s 4ms/step - loss: 0.2969 - accuracy: 0.9883\n",
            "Epoch 76/150\n",
            "6/6 [==============================] - 0s 4ms/step - loss: 0.2953 - accuracy: 0.9863\n",
            "Epoch 77/150\n",
            "6/6 [==============================] - 0s 4ms/step - loss: 0.3007 - accuracy: 0.9785\n",
            "Epoch 78/150\n",
            "6/6 [==============================] - 0s 5ms/step - loss: 0.2877 - accuracy: 0.9844\n",
            "Epoch 79/150\n",
            "6/6 [==============================] - 0s 4ms/step - loss: 0.2910 - accuracy: 0.9863\n",
            "Epoch 80/150\n",
            "6/6 [==============================] - 0s 5ms/step - loss: 0.2842 - accuracy: 0.9902\n",
            "Epoch 81/150\n",
            "6/6 [==============================] - 0s 4ms/step - loss: 0.2821 - accuracy: 0.9883\n",
            "Epoch 82/150\n",
            "6/6 [==============================] - 0s 4ms/step - loss: 0.2761 - accuracy: 0.9922\n",
            "Epoch 83/150\n",
            "6/6 [==============================] - 0s 5ms/step - loss: 0.2811 - accuracy: 0.9902\n",
            "Epoch 84/150\n",
            "6/6 [==============================] - 0s 6ms/step - loss: 0.2784 - accuracy: 0.9844\n",
            "Epoch 85/150\n",
            "6/6 [==============================] - 0s 4ms/step - loss: 0.2832 - accuracy: 0.9844\n",
            "Epoch 86/150\n",
            "6/6 [==============================] - 0s 5ms/step - loss: 0.2699 - accuracy: 0.9863\n",
            "Epoch 87/150\n",
            "6/6 [==============================] - 0s 4ms/step - loss: 0.2765 - accuracy: 0.9805\n",
            "Epoch 88/150\n",
            "6/6 [==============================] - 0s 4ms/step - loss: 0.2716 - accuracy: 0.9863\n",
            "Epoch 89/150\n",
            "6/6 [==============================] - 0s 4ms/step - loss: 0.2692 - accuracy: 0.9883\n",
            "Epoch 90/150\n",
            "6/6 [==============================] - 0s 5ms/step - loss: 0.2716 - accuracy: 0.9824\n",
            "Epoch 91/150\n",
            "6/6 [==============================] - 0s 5ms/step - loss: 0.2700 - accuracy: 0.9883\n",
            "Epoch 92/150\n",
            "6/6 [==============================] - 0s 7ms/step - loss: 0.2674 - accuracy: 0.9863\n",
            "Epoch 93/150\n",
            "6/6 [==============================] - 0s 5ms/step - loss: 0.2648 - accuracy: 0.9883\n",
            "Epoch 94/150\n",
            "6/6 [==============================] - 0s 5ms/step - loss: 0.2639 - accuracy: 0.9902\n",
            "Epoch 95/150\n",
            "6/6 [==============================] - 0s 5ms/step - loss: 0.2645 - accuracy: 0.9902\n",
            "Epoch 96/150\n",
            "6/6 [==============================] - 0s 4ms/step - loss: 0.2595 - accuracy: 0.9922\n",
            "Epoch 97/150\n",
            "6/6 [==============================] - 0s 5ms/step - loss: 0.2511 - accuracy: 0.9922\n",
            "Epoch 98/150\n",
            "6/6 [==============================] - 0s 5ms/step - loss: 0.2628 - accuracy: 0.9844\n",
            "Epoch 99/150\n",
            "6/6 [==============================] - 0s 5ms/step - loss: 0.2527 - accuracy: 0.9922\n",
            "Epoch 100/150\n",
            "6/6 [==============================] - 0s 5ms/step - loss: 0.2491 - accuracy: 0.9883\n",
            "Epoch 101/150\n",
            "6/6 [==============================] - 0s 5ms/step - loss: 0.2572 - accuracy: 0.9902\n",
            "Epoch 102/150\n",
            "6/6 [==============================] - 0s 5ms/step - loss: 0.2523 - accuracy: 0.9824\n",
            "Epoch 103/150\n",
            "6/6 [==============================] - 0s 4ms/step - loss: 0.2545 - accuracy: 0.9883\n",
            "Epoch 104/150\n",
            "6/6 [==============================] - 0s 4ms/step - loss: 0.2432 - accuracy: 0.9883\n",
            "Epoch 105/150\n",
            "6/6 [==============================] - 0s 4ms/step - loss: 0.2484 - accuracy: 0.9883\n",
            "Epoch 106/150\n",
            "6/6 [==============================] - 0s 4ms/step - loss: 0.2416 - accuracy: 0.9883\n",
            "Epoch 107/150\n",
            "6/6 [==============================] - 0s 5ms/step - loss: 0.2344 - accuracy: 0.9902\n",
            "Epoch 108/150\n",
            "6/6 [==============================] - 0s 5ms/step - loss: 0.2488 - accuracy: 0.9883\n",
            "Epoch 109/150\n",
            "6/6 [==============================] - 0s 5ms/step - loss: 0.2424 - accuracy: 0.9844\n",
            "Epoch 110/150\n",
            "6/6 [==============================] - 0s 5ms/step - loss: 0.2360 - accuracy: 0.9883\n",
            "Epoch 111/150\n",
            "6/6 [==============================] - 0s 5ms/step - loss: 0.2418 - accuracy: 0.9922\n",
            "Epoch 112/150\n",
            "6/6 [==============================] - 0s 5ms/step - loss: 0.2475 - accuracy: 0.9844\n",
            "Epoch 113/150\n",
            "6/6 [==============================] - 0s 5ms/step - loss: 0.2422 - accuracy: 0.9902\n",
            "Epoch 114/150\n",
            "6/6 [==============================] - 0s 5ms/step - loss: 0.2416 - accuracy: 0.9844\n",
            "Epoch 115/150\n",
            "6/6 [==============================] - 0s 5ms/step - loss: 0.2396 - accuracy: 0.9844\n",
            "Epoch 116/150\n",
            "6/6 [==============================] - 0s 5ms/step - loss: 0.2386 - accuracy: 0.9824\n",
            "Epoch 117/150\n",
            "6/6 [==============================] - 0s 5ms/step - loss: 0.2386 - accuracy: 0.9844\n",
            "Epoch 118/150\n",
            "6/6 [==============================] - 0s 6ms/step - loss: 0.2341 - accuracy: 0.9883\n",
            "Epoch 119/150\n",
            "6/6 [==============================] - 0s 5ms/step - loss: 0.2320 - accuracy: 0.9883\n",
            "Epoch 120/150\n",
            "6/6 [==============================] - 0s 5ms/step - loss: 0.2343 - accuracy: 0.9883\n",
            "Epoch 121/150\n",
            "6/6 [==============================] - 0s 4ms/step - loss: 0.2303 - accuracy: 0.9883\n",
            "Epoch 122/150\n",
            "6/6 [==============================] - 0s 6ms/step - loss: 0.2315 - accuracy: 0.9863\n",
            "Epoch 123/150\n",
            "6/6 [==============================] - 0s 5ms/step - loss: 0.2251 - accuracy: 0.9902\n",
            "Epoch 124/150\n",
            "6/6 [==============================] - 0s 7ms/step - loss: 0.2210 - accuracy: 0.9844\n",
            "Epoch 125/150\n",
            "6/6 [==============================] - 0s 5ms/step - loss: 0.2342 - accuracy: 0.9863\n",
            "Epoch 126/150\n",
            "6/6 [==============================] - 0s 4ms/step - loss: 0.2322 - accuracy: 0.9844\n",
            "Epoch 127/150\n",
            "6/6 [==============================] - 0s 5ms/step - loss: 0.2208 - accuracy: 0.9902\n",
            "Epoch 128/150\n",
            "6/6 [==============================] - 0s 5ms/step - loss: 0.2163 - accuracy: 0.9902\n",
            "Epoch 129/150\n",
            "6/6 [==============================] - 0s 6ms/step - loss: 0.2087 - accuracy: 0.9902\n",
            "Epoch 130/150\n",
            "6/6 [==============================] - 0s 6ms/step - loss: 0.2330 - accuracy: 0.9824\n",
            "Epoch 131/150\n",
            "6/6 [==============================] - 0s 5ms/step - loss: 0.2269 - accuracy: 0.9883\n",
            "Epoch 132/150\n",
            "6/6 [==============================] - 0s 5ms/step - loss: 0.2180 - accuracy: 0.9922\n",
            "Epoch 133/150\n",
            "6/6 [==============================] - 0s 5ms/step - loss: 0.2114 - accuracy: 0.9883\n",
            "Epoch 134/150\n",
            "6/6 [==============================] - 0s 5ms/step - loss: 0.2257 - accuracy: 0.9844\n",
            "Epoch 135/150\n",
            "6/6 [==============================] - 0s 5ms/step - loss: 0.2222 - accuracy: 0.9902\n",
            "Epoch 136/150\n",
            "6/6 [==============================] - 0s 6ms/step - loss: 0.2224 - accuracy: 0.9863\n",
            "Epoch 137/150\n",
            "6/6 [==============================] - 0s 6ms/step - loss: 0.2132 - accuracy: 0.9863\n",
            "Epoch 138/150\n",
            "6/6 [==============================] - 0s 5ms/step - loss: 0.2245 - accuracy: 0.9824\n",
            "Epoch 139/150\n",
            "6/6 [==============================] - 0s 5ms/step - loss: 0.2181 - accuracy: 0.9863\n",
            "Epoch 140/150\n",
            "6/6 [==============================] - 0s 5ms/step - loss: 0.2149 - accuracy: 0.9883\n",
            "Epoch 141/150\n",
            "6/6 [==============================] - 0s 5ms/step - loss: 0.2216 - accuracy: 0.9824\n",
            "Epoch 142/150\n",
            "6/6 [==============================] - 0s 6ms/step - loss: 0.2101 - accuracy: 0.9922\n",
            "Epoch 143/150\n",
            "6/6 [==============================] - 0s 4ms/step - loss: 0.2024 - accuracy: 0.9922\n",
            "Epoch 144/150\n",
            "6/6 [==============================] - 0s 4ms/step - loss: 0.2104 - accuracy: 0.9824\n",
            "Epoch 145/150\n",
            "6/6 [==============================] - 0s 3ms/step - loss: 0.2187 - accuracy: 0.9863\n",
            "Epoch 146/150\n",
            "6/6 [==============================] - 0s 3ms/step - loss: 0.2026 - accuracy: 0.9922\n",
            "Epoch 147/150\n",
            "6/6 [==============================] - 0s 3ms/step - loss: 0.2213 - accuracy: 0.9824\n",
            "Epoch 148/150\n",
            "6/6 [==============================] - 0s 3ms/step - loss: 0.2122 - accuracy: 0.9883\n",
            "Epoch 149/150\n",
            "6/6 [==============================] - 0s 3ms/step - loss: 0.2099 - accuracy: 0.9844\n",
            "Epoch 150/150\n",
            "6/6 [==============================] - 0s 4ms/step - loss: 0.2064 - accuracy: 0.9844\n"
          ]
        },
        {
          "output_type": "execute_result",
          "data": {
            "text/plain": [
              "<keras.src.callbacks.History at 0x7cc4ecb98df0>"
            ]
          },
          "metadata": {},
          "execution_count": 56
        }
      ]
    },
    {
      "cell_type": "code",
      "source": [
        "# Predicting the Test set results\n",
        "y_pred = classifier.predict(X_test)\n",
        "y_pred = (y_pred > 0.5)"
      ],
      "metadata": {
        "colab": {
          "base_uri": "https://localhost:8080/"
        },
        "id": "HJGBVfLgwaR6",
        "outputId": "7d88c4c1-b623-4351-ac41-ec59d0cd2fa7"
      },
      "execution_count": 57,
      "outputs": [
        {
          "output_type": "stream",
          "name": "stdout",
          "text": [
            "2/2 [==============================] - 0s 10ms/step\n"
          ]
        }
      ]
    },
    {
      "cell_type": "code",
      "source": [
        "# Making the Confusion Matrix\n",
        "from sklearn.metrics import confusion_matrix\n",
        "cm = confusion_matrix(y_test, y_pred)"
      ],
      "metadata": {
        "id": "GMgPlS-8wdxg"
      },
      "execution_count": 58,
      "outputs": []
    },
    {
      "cell_type": "code",
      "source": [
        "print(\"Our accuracy is {}%\".format(((cm[0][0] + cm[1][1])/57)*100))"
      ],
      "metadata": {
        "colab": {
          "base_uri": "https://localhost:8080/"
        },
        "id": "EXddlSFhwf9m",
        "outputId": "5b421089-495c-4de5-b0e5-5fce0f3d8b63"
      },
      "execution_count": 59,
      "outputs": [
        {
          "output_type": "stream",
          "name": "stdout",
          "text": [
            "Our accuracy is 98.24561403508771%\n"
          ]
        }
      ]
    },
    {
      "cell_type": "code",
      "source": [
        "sns.heatmap(cm,annot=True)\n",
        "plt.savefig('h.png')"
      ],
      "metadata": {
        "colab": {
          "base_uri": "https://localhost:8080/",
          "height": 430
        },
        "id": "QkTvXbJYwiPk",
        "outputId": "27cb69c9-7cd5-4bfa-968e-af093442dbf7"
      },
      "execution_count": 60,
      "outputs": [
        {
          "output_type": "display_data",
          "data": {
            "text/plain": [
              "<Figure size 640x480 with 2 Axes>"
            ],
            "image/png": "[encoded data removed]"
          },
          "metadata": {}
        }
      ]
    }
  ]
}